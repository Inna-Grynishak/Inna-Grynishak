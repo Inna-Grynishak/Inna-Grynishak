{
  "nbformat": 4,
  "nbformat_minor": 0,
  "metadata": {
    "colab": {
      "name": "Untitled1.ipynb",
      "provenance": [],
      "authorship_tag": "ABX9TyNZN5U5mDYHgNCMxEAOtAED",
      "include_colab_link": true
    },
    "kernelspec": {
      "name": "python3",
      "display_name": "Python 3"
    },
    "language_info": {
      "name": "python"
    }
  },
  "cells": [
    {
      "cell_type": "markdown",
      "metadata": {
        "id": "view-in-github",
        "colab_type": "text"
      },
      "source": [
        "<a href=\"https://colab.research.google.com/github/Inna-Grynishak/Inna-Grynishak/blob/main/lab4.ipynb\" target=\"_parent\"><img src=\"https://colab.research.google.com/assets/colab-badge.svg\" alt=\"Open In Colab\"/></a>"
      ]
    },
    {
      "cell_type": "markdown",
      "source": [
        "# Лабораторна робота №4\n",
        "студентки КН-31 **Гринішак Інни**\\\n",
        "**Тема**: Neural Network Classification with TensorFlow\\\n",
        "\\\n",
        "**Завдання:** \\\n",
        "1. На основі документу вирішити завдання класифікації для набору даних Fashion MNIST.\n",
        "2. Для моделювання використати 3 класи індекси яких взяти відповідно до номеру у списку групи.\n",
        "3. Моделювання провести із використанням нейронної мережі (Flatten & Dense layers).\n",
        "4. Здійснити вибір оптимального кроку градієнтного алгоритму (learning_rate), а також побудову Confusion Matrix.\n",
        "5. Результати оформити у вигляді файлу з кодом для моделювання та візуалізації у форматі .ipynb\n",
        "6. Результати викласти у репозиторії GitHub (папка Lab4).\n",
        "7. Підготуватися до захисту лабораторної роботи (пояснення коду, відповіді на запитання за темою)\n",
        "- Варіант 5   ![image.png](data:image/png;base64,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)\n",
        "\n"
      ],
      "metadata": {
        "id": "_OqxXZ-PDLme"
      }
    },
    {
      "cell_type": "markdown",
      "source": [
        "# Завдання 1\n",
        "На основі документу вирішити завдання класифікації для набору даних Fashion MNIST(спочатку витягнемо дані)."
      ],
      "metadata": {
        "id": "NiBRpEGeEPit"
      }
    },
    {
      "cell_type": "code",
      "source": [
        "import tensorflow as tf\n",
        "from tensorflow.keras.datasets import fashion_mnist\n",
        "\n",
        "(train_data, train_labels), (test_data, test_labels) = fashion_mnist.load_data()\n"
      ],
      "metadata": {
        "id": "OAl75VjAEIvi"
      },
      "execution_count": 40,
      "outputs": []
    },
    {
      "cell_type": "markdown",
      "source": [
        "# Завдання 2\n",
        "Для моделювання використати 3 класи індекси яких взяти відповідно до 5-го варіанту(3 класи: 4, 7, 1)\n",
        "\n"
      ],
      "metadata": {
        "id": "_aef_ZWEH70k"
      }
    },
    {
      "cell_type": "code",
      "source": [
        "import numpy as np\n",
        "import random\n",
        "import matplotlib.pyplot as plt\n",
        "\n",
        "class_names = ['Coat','Sneaker','Trouser']\n",
        "my_train_data = []\n",
        "my_train_labels = []\n",
        "for i in range(len(train_labels)):\n",
        "  if (train_labels[i] in [4,7,1]):\n",
        "    my_train_data.append(train_data[i])\n",
        "    my_train_labels.append(train_labels[i])\n",
        "\n",
        "my_test_data=[]\n",
        "my_test_labels  = []\n",
        "for i in range(len(test_labels)):\n",
        "  if (test_labels[i] in [4,7,1]):\n",
        "    my_test_data.append(test_data[i])\n",
        "    my_test_labels.append(test_labels[i])\n",
        "\n",
        "# Plot my random images of fashion MNIST\n",
        "plt.figure(figsize=(10, 10))\n",
        "for i in range(10):\n",
        "  ax = plt.subplot(5, 5, i + 1)\n",
        "  rand_index = random.choice(range(len(my_train_data)))\n",
        "  plt.imshow(my_train_data[i], cmap=plt.cm.binary)\n",
        "  plt.title(my_train_labels[i])\n",
        "  plt.axis(False)\n"
      ],
      "metadata": {
        "colab": {
          "base_uri": "https://localhost:8080/",
          "height": 253
        },
        "id": "L5BpO3U9IEGA",
        "outputId": "2c9feb40-e6e1-4bd3-9bb2-8f1521958359"
      },
      "execution_count": 41,
      "outputs": [
        {
          "output_type": "display_data",
          "data": {
            "text/plain": [
              "<Figure size 720x720 with 10 Axes>"
            ],
            "image/png": "[encoded data removed]"
          },
          "metadata": {
            "needs_background": "light"
          }
        }
      ]
    },
    {
      "cell_type": "markdown",
      "source": [
        "# Завдання 3\n",
        "Моделювання провести із використанням нейронної мережі (Flatten & Dense layers)"
      ],
      "metadata": {
        "id": "F7AYcI5TMZsO"
      }
    },
    {
      "cell_type": "code",
      "source": [
        "# Divide train and test images by the maximum value (normalize it)\n",
        "my_train_data = np.array(my_train_data) / 255.0\n",
        "my_train_labels = np.array(my_train_labels)\n",
        "my_test_data= np.array(my_test_data) / 255.0\n",
        "my_test_labels  = np.array(my_test_labels)\n",
        "\n",
        "# Set random seed\n",
        "tf.random.set_seed(42)\n",
        "\n",
        "# Create the model\n",
        "model_13 = tf.keras.Sequential([\n",
        "  tf.keras.layers.Flatten(input_shape=(28, 28)),\n",
        "  tf.keras.layers.Dense(4, activation=\"relu\"),\n",
        "  tf.keras.layers.Dense(4, activation=\"relu\"),\n",
        "  tf.keras.layers.Dense(10, activation=\"softmax\") \n",
        "])\n",
        "\n",
        "# Compile the model\n",
        "model_13.compile(loss=tf.keras.losses.SparseCategoricalCrossentropy(),\n",
        "                 optimizer=tf.keras.optimizers.Adam(lr=0.001),\n",
        "                 metrics=[\"accuracy\"])\n",
        "\n",
        "lr_scheduler = tf.keras.callbacks.LearningRateScheduler(lambda epoch: 1e-3 * 10**(epoch/200))\n",
        "\n",
        "# Fit the model\n",
        "find_lr_history = model_13.fit(my_train_data,\n",
        "                               my_train_labels,\n",
        "                               epochs=40,\n",
        "                               validation_data=(my_test_data, my_test_labels),\n",
        "                               callbacks=[lr_scheduler])\n",
        "\n",
        "\n"
      ],
      "metadata": {
        "colab": {
          "base_uri": "https://localhost:8080/"
        },
        "id": "F-5Ee5c_Mi3U",
        "outputId": "fc4d2492-73a9-4e61-9517-ad9f681d03d8"
      },
      "execution_count": 44,
      "outputs": [
        {
          "output_type": "stream",
          "name": "stdout",
          "text": [
            "Epoch 1/40\n"
          ]
        },
        {
          "output_type": "stream",
          "name": "stderr",
          "text": [
            "/usr/local/lib/python3.7/dist-packages/keras/optimizer_v2/adam.py:105: UserWarning: The `lr` argument is deprecated, use `learning_rate` instead.\n",
            "  super(Adam, self).__init__(name, **kwargs)\n"
          ]
        },
        {
          "output_type": "stream",
          "name": "stdout",
          "text": [
            "563/563 [==============================] - 2s 3ms/step - loss: 1.5534 - accuracy: 0.3554 - val_loss: 0.9949 - val_accuracy: 0.5840 - lr: 0.0010\n",
            "Epoch 2/40\n",
            "563/563 [==============================] - 1s 2ms/step - loss: 0.7929 - accuracy: 0.7977 - val_loss: 0.5937 - val_accuracy: 0.9580 - lr: 0.0010\n",
            "Epoch 3/40\n",
            "563/563 [==============================] - 1s 2ms/step - loss: 0.3873 - accuracy: 0.9682 - val_loss: 0.2229 - val_accuracy: 0.9753 - lr: 0.0010\n",
            "Epoch 4/40\n",
            "563/563 [==============================] - 1s 2ms/step - loss: 0.1621 - accuracy: 0.9775 - val_loss: 0.1187 - val_accuracy: 0.9790 - lr: 0.0010\n",
            "Epoch 5/40\n",
            "563/563 [==============================] - 1s 2ms/step - loss: 0.0989 - accuracy: 0.9807 - val_loss: 0.0846 - val_accuracy: 0.9810 - lr: 0.0010\n",
            "Epoch 6/40\n",
            "563/563 [==============================] - 1s 2ms/step - loss: 0.0727 - accuracy: 0.9833 - val_loss: 0.0656 - val_accuracy: 0.9830 - lr: 0.0011\n",
            "Epoch 7/40\n",
            "563/563 [==============================] - 1s 2ms/step - loss: 0.0584 - accuracy: 0.9854 - val_loss: 0.0558 - val_accuracy: 0.9850 - lr: 0.0011\n",
            "Epoch 8/40\n",
            "563/563 [==============================] - 1s 2ms/step - loss: 0.0491 - accuracy: 0.9874 - val_loss: 0.0477 - val_accuracy: 0.9867 - lr: 0.0011\n",
            "Epoch 9/40\n",
            "563/563 [==============================] - 1s 2ms/step - loss: 0.0427 - accuracy: 0.9885 - val_loss: 0.0431 - val_accuracy: 0.9867 - lr: 0.0011\n",
            "Epoch 10/40\n",
            "563/563 [==============================] - 1s 2ms/step - loss: 0.0383 - accuracy: 0.9897 - val_loss: 0.0391 - val_accuracy: 0.9883 - lr: 0.0011\n",
            "Epoch 11/40\n",
            "563/563 [==============================] - 1s 2ms/step - loss: 0.0347 - accuracy: 0.9906 - val_loss: 0.0367 - val_accuracy: 0.9877 - lr: 0.0011\n",
            "Epoch 12/40\n",
            "563/563 [==============================] - 1s 2ms/step - loss: 0.0320 - accuracy: 0.9912 - val_loss: 0.0342 - val_accuracy: 0.9890 - lr: 0.0011\n",
            "Epoch 13/40\n",
            "563/563 [==============================] - 1s 2ms/step - loss: 0.0299 - accuracy: 0.9917 - val_loss: 0.0336 - val_accuracy: 0.9893 - lr: 0.0011\n",
            "Epoch 14/40\n",
            "563/563 [==============================] - 1s 2ms/step - loss: 0.0280 - accuracy: 0.9918 - val_loss: 0.0302 - val_accuracy: 0.9900 - lr: 0.0012\n",
            "Epoch 15/40\n",
            "563/563 [==============================] - 1s 2ms/step - loss: 0.0266 - accuracy: 0.9923 - val_loss: 0.0293 - val_accuracy: 0.9903 - lr: 0.0012\n",
            "Epoch 16/40\n",
            "563/563 [==============================] - 1s 2ms/step - loss: 0.0252 - accuracy: 0.9929 - val_loss: 0.0275 - val_accuracy: 0.9907 - lr: 0.0012\n",
            "Epoch 17/40\n",
            "563/563 [==============================] - 1s 2ms/step - loss: 0.0242 - accuracy: 0.9932 - val_loss: 0.0266 - val_accuracy: 0.9917 - lr: 0.0012\n",
            "Epoch 18/40\n",
            "563/563 [==============================] - 1s 2ms/step - loss: 0.0231 - accuracy: 0.9932 - val_loss: 0.0253 - val_accuracy: 0.9923 - lr: 0.0012\n",
            "Epoch 19/40\n",
            "563/563 [==============================] - 1s 2ms/step - loss: 0.0222 - accuracy: 0.9938 - val_loss: 0.0270 - val_accuracy: 0.9920 - lr: 0.0012\n",
            "Epoch 20/40\n",
            "563/563 [==============================] - 1s 2ms/step - loss: 0.0213 - accuracy: 0.9938 - val_loss: 0.0271 - val_accuracy: 0.9917 - lr: 0.0012\n",
            "Epoch 21/40\n",
            "563/563 [==============================] - 1s 2ms/step - loss: 0.0206 - accuracy: 0.9941 - val_loss: 0.0251 - val_accuracy: 0.9927 - lr: 0.0013\n",
            "Epoch 22/40\n",
            "563/563 [==============================] - 1s 2ms/step - loss: 0.0200 - accuracy: 0.9939 - val_loss: 0.0242 - val_accuracy: 0.9930 - lr: 0.0013\n",
            "Epoch 23/40\n",
            "563/563 [==============================] - 1s 2ms/step - loss: 0.0193 - accuracy: 0.9942 - val_loss: 0.0234 - val_accuracy: 0.9933 - lr: 0.0013\n",
            "Epoch 24/40\n",
            "563/563 [==============================] - 1s 2ms/step - loss: 0.0186 - accuracy: 0.9949 - val_loss: 0.0224 - val_accuracy: 0.9937 - lr: 0.0013\n",
            "Epoch 25/40\n",
            "563/563 [==============================] - 1s 2ms/step - loss: 0.0181 - accuracy: 0.9946 - val_loss: 0.0215 - val_accuracy: 0.9933 - lr: 0.0013\n",
            "Epoch 26/40\n",
            "563/563 [==============================] - 1s 2ms/step - loss: 0.0175 - accuracy: 0.9948 - val_loss: 0.0216 - val_accuracy: 0.9937 - lr: 0.0013\n",
            "Epoch 27/40\n",
            "563/563 [==============================] - 1s 2ms/step - loss: 0.0171 - accuracy: 0.9949 - val_loss: 0.0212 - val_accuracy: 0.9933 - lr: 0.0013\n",
            "Epoch 28/40\n",
            "563/563 [==============================] - 1s 2ms/step - loss: 0.0166 - accuracy: 0.9953 - val_loss: 0.0196 - val_accuracy: 0.9940 - lr: 0.0014\n",
            "Epoch 29/40\n",
            "563/563 [==============================] - 1s 2ms/step - loss: 0.0161 - accuracy: 0.9951 - val_loss: 0.0194 - val_accuracy: 0.9940 - lr: 0.0014\n",
            "Epoch 30/40\n",
            "563/563 [==============================] - 1s 2ms/step - loss: 0.0157 - accuracy: 0.9952 - val_loss: 0.0203 - val_accuracy: 0.9933 - lr: 0.0014\n",
            "Epoch 31/40\n",
            "563/563 [==============================] - 1s 2ms/step - loss: 0.0153 - accuracy: 0.9955 - val_loss: 0.0213 - val_accuracy: 0.9937 - lr: 0.0014\n",
            "Epoch 32/40\n",
            "563/563 [==============================] - 1s 2ms/step - loss: 0.0149 - accuracy: 0.9956 - val_loss: 0.0193 - val_accuracy: 0.9940 - lr: 0.0014\n",
            "Epoch 33/40\n",
            "563/563 [==============================] - 1s 2ms/step - loss: 0.0145 - accuracy: 0.9956 - val_loss: 0.0196 - val_accuracy: 0.9933 - lr: 0.0014\n",
            "Epoch 34/40\n",
            "563/563 [==============================] - 1s 2ms/step - loss: 0.0143 - accuracy: 0.9957 - val_loss: 0.0175 - val_accuracy: 0.9940 - lr: 0.0015\n",
            "Epoch 35/40\n",
            "563/563 [==============================] - 1s 2ms/step - loss: 0.0136 - accuracy: 0.9957 - val_loss: 0.0220 - val_accuracy: 0.9940 - lr: 0.0015\n",
            "Epoch 36/40\n",
            "563/563 [==============================] - 1s 2ms/step - loss: 0.0133 - accuracy: 0.9961 - val_loss: 0.0179 - val_accuracy: 0.9943 - lr: 0.0015\n",
            "Epoch 37/40\n",
            "563/563 [==============================] - 1s 2ms/step - loss: 0.0132 - accuracy: 0.9961 - val_loss: 0.0176 - val_accuracy: 0.9943 - lr: 0.0015\n",
            "Epoch 38/40\n",
            "563/563 [==============================] - 1s 2ms/step - loss: 0.0129 - accuracy: 0.9961 - val_loss: 0.0188 - val_accuracy: 0.9940 - lr: 0.0015\n",
            "Epoch 39/40\n",
            "563/563 [==============================] - 1s 2ms/step - loss: 0.0128 - accuracy: 0.9961 - val_loss: 0.0187 - val_accuracy: 0.9943 - lr: 0.0015\n",
            "Epoch 40/40\n",
            "563/563 [==============================] - 1s 2ms/step - loss: 0.0125 - accuracy: 0.9960 - val_loss: 0.0175 - val_accuracy: 0.9943 - lr: 0.0016\n"
          ]
        }
      ]
    },
    {
      "cell_type": "markdown",
      "source": [
        "# Завдання 4 (1)\n",
        "Здійснити вибір оптимального кроку градієнтного алгоритму (learning_rate)"
      ],
      "metadata": {
        "id": "VnVpcsjYx_aY"
      }
    },
    {
      "cell_type": "code",
      "source": [
        "# Plot the learning rate decay curve\n",
        "import numpy as np\n",
        "import matplotlib.pyplot as plt\n",
        "lrs = 1e-3 * (10**(np.arange(40)/20))\n",
        "plt.semilogx(lrs, find_lr_history.history[\"loss\"]) # want the x-axis to be log-scale\n",
        "plt.xlabel(\"Learning rate\")\n",
        "plt.ylabel(\"Loss\")\n",
        "plt.title(\"Finding the ideal learning rate\");"
      ],
      "metadata": {
        "colab": {
          "base_uri": "https://localhost:8080/",
          "height": 299
        },
        "id": "aTb6cZvoyXvd",
        "outputId": "57d1a074-58d1-494a-e0cf-3e3a23a0dd47"
      },
      "execution_count": 45,
      "outputs": [
        {
          "output_type": "display_data",
          "data": {
            "text/plain": [
              "<Figure size 432x288 with 1 Axes>"
            ],
            "image/png": "[encoded data removed]"
          },
          "metadata": {
            "needs_background": "light"
          }
        }
      ]
    },
    {
      "cell_type": "code",
      "source": [
        "# Let's refit a model using the ideal learning rate\n",
        "\n",
        "# Set random seed\n",
        "tf.random.set_seed(42)\n",
        "\n",
        "# Create the model\n",
        "model_14 = tf.keras.Sequential([\n",
        "  tf.keras.layers.Flatten(input_shape=(28, 28)),\n",
        "  tf.keras.layers.Dense(4, activation=\"relu\"),\n",
        "  tf.keras.layers.Dense(4, activation=\"relu\"),\n",
        "  tf.keras.layers.Dense(10, activation=\"softmax\")\n",
        "])\n",
        "\n",
        "# Compile the model\n",
        "model_14.compile(loss=tf.keras.losses.SparseCategoricalCrossentropy(),\n",
        "                 optimizer=tf.keras.optimizers.Adam(lr=0.07),\n",
        "                 metrics=[\"accuracy\"])\n",
        "\n",
        "# Fit the model\n",
        "history = model_14.fit(my_train_data,\n",
        "                       my_train_labels,\n",
        "                       epochs=20,\n",
        "                       validation_data=(my_test_data, my_test_labels))"
      ],
      "metadata": {
        "colab": {
          "base_uri": "https://localhost:8080/"
        },
        "id": "DPbX_Xznzk0w",
        "outputId": "6e3b1c95-6621-4a9c-ce9e-ad0657909aa9"
      },
      "execution_count": 46,
      "outputs": [
        {
          "output_type": "stream",
          "name": "stdout",
          "text": [
            "Epoch 1/20\n"
          ]
        },
        {
          "output_type": "stream",
          "name": "stderr",
          "text": [
            "/usr/local/lib/python3.7/dist-packages/keras/optimizer_v2/adam.py:105: UserWarning: The `lr` argument is deprecated, use `learning_rate` instead.\n",
            "  super(Adam, self).__init__(name, **kwargs)\n"
          ]
        },
        {
          "output_type": "stream",
          "name": "stdout",
          "text": [
            "563/563 [==============================] - 2s 2ms/step - loss: 0.1033 - accuracy: 0.9616 - val_loss: 0.0205 - val_accuracy: 0.9940\n",
            "Epoch 2/20\n",
            "563/563 [==============================] - 1s 2ms/step - loss: 0.0249 - accuracy: 0.9924 - val_loss: 0.0278 - val_accuracy: 0.9910\n",
            "Epoch 3/20\n",
            "563/563 [==============================] - 1s 2ms/step - loss: 0.0203 - accuracy: 0.9938 - val_loss: 0.0196 - val_accuracy: 0.9953\n",
            "Epoch 4/20\n",
            "563/563 [==============================] - 1s 2ms/step - loss: 0.0193 - accuracy: 0.9943 - val_loss: 0.0199 - val_accuracy: 0.9937\n",
            "Epoch 5/20\n",
            "563/563 [==============================] - 1s 2ms/step - loss: 0.0193 - accuracy: 0.9943 - val_loss: 0.0164 - val_accuracy: 0.9960\n",
            "Epoch 6/20\n",
            "563/563 [==============================] - 1s 2ms/step - loss: 0.0153 - accuracy: 0.9962 - val_loss: 0.0212 - val_accuracy: 0.9957\n",
            "Epoch 7/20\n",
            "563/563 [==============================] - 1s 2ms/step - loss: 0.0143 - accuracy: 0.9966 - val_loss: 0.0257 - val_accuracy: 0.9933\n",
            "Epoch 8/20\n",
            "563/563 [==============================] - 1s 2ms/step - loss: 0.0142 - accuracy: 0.9961 - val_loss: 0.0306 - val_accuracy: 0.9920\n",
            "Epoch 9/20\n",
            "563/563 [==============================] - 1s 2ms/step - loss: 0.0123 - accuracy: 0.9968 - val_loss: 0.0212 - val_accuracy: 0.9947\n",
            "Epoch 10/20\n",
            "563/563 [==============================] - 1s 2ms/step - loss: 0.0232 - accuracy: 0.9932 - val_loss: 0.0190 - val_accuracy: 0.9953\n",
            "Epoch 11/20\n",
            "563/563 [==============================] - 1s 2ms/step - loss: 0.0200 - accuracy: 0.9955 - val_loss: 0.0176 - val_accuracy: 0.9950\n",
            "Epoch 12/20\n",
            "563/563 [==============================] - 1s 2ms/step - loss: 0.0132 - accuracy: 0.9951 - val_loss: 0.0238 - val_accuracy: 0.9957\n",
            "Epoch 13/20\n",
            "563/563 [==============================] - 1s 2ms/step - loss: 0.0119 - accuracy: 0.9962 - val_loss: 0.0213 - val_accuracy: 0.9960\n",
            "Epoch 14/20\n",
            "563/563 [==============================] - 1s 2ms/step - loss: 0.0105 - accuracy: 0.9971 - val_loss: 0.0224 - val_accuracy: 0.9953\n",
            "Epoch 15/20\n",
            "563/563 [==============================] - 1s 2ms/step - loss: 0.0162 - accuracy: 0.9956 - val_loss: 0.0375 - val_accuracy: 0.9940\n",
            "Epoch 16/20\n",
            "563/563 [==============================] - 1s 2ms/step - loss: 0.0108 - accuracy: 0.9968 - val_loss: 0.0172 - val_accuracy: 0.9963\n",
            "Epoch 17/20\n",
            "563/563 [==============================] - 1s 2ms/step - loss: 0.0098 - accuracy: 0.9968 - val_loss: 0.0262 - val_accuracy: 0.9960\n",
            "Epoch 18/20\n",
            "563/563 [==============================] - 1s 2ms/step - loss: 0.0122 - accuracy: 0.9963 - val_loss: 0.0235 - val_accuracy: 0.9963\n",
            "Epoch 19/20\n",
            "563/563 [==============================] - 1s 2ms/step - loss: 0.0117 - accuracy: 0.9962 - val_loss: 0.0262 - val_accuracy: 0.9963\n",
            "Epoch 20/20\n",
            "563/563 [==============================] - 1s 2ms/step - loss: 0.0117 - accuracy: 0.9964 - val_loss: 0.0170 - val_accuracy: 0.9960\n"
          ]
        }
      ]
    },
    {
      "cell_type": "markdown",
      "source": [
        "# Завдання 4 (2)\n",
        "Здійснити побудову Confusion Matrix"
      ],
      "metadata": {
        "id": "oitBOQ6K0Wfz"
      }
    },
    {
      "cell_type": "code",
      "source": [
        "from sklearn.metrics import confusion_matrix\n",
        "import pandas as pd\n",
        "import seaborn as sns\n",
        "\n",
        "test_loss, test_acc = model_13.evaluate(my_test_data, my_test_labels)\n",
        "\n",
        "\n",
        "predictions = model_13.predict(my_test_data)\n",
        "y_predictions = []\n",
        "for i in predictions:\n",
        "  i_max = np.argmax(i)\n",
        "  y_predictions = np.append(y_predictions, i_max)\n",
        "\n",
        "cm = confusion_matrix(my_test_labels, y_predictions)\n",
        "dataframe_cm = pd.DataFrame(cm, index = class_names, columns = class_names)\n",
        "\n",
        "sns.heatmap(dataframe_cm, annot=True, cmap=\"summer\")\n",
        "plt.title('Confusion Matrix')\n",
        "\n",
        "\n",
        "plt.show()"
      ],
      "metadata": {
        "id": "gInAa6hH1BBl",
        "colab": {
          "base_uri": "https://localhost:8080/",
          "height": 299
        },
        "outputId": "4edfacd1-ce8f-45dd-e64b-1ffb261bde9a"
      },
      "execution_count": 52,
      "outputs": [
        {
          "output_type": "stream",
          "name": "stdout",
          "text": [
            "94/94 [==============================] - 0s 1ms/step - loss: 0.0175 - accuracy: 0.9943\n"
          ]
        },
        {
          "output_type": "display_data",
          "data": {
            "text/plain": [
              "<Figure size 432x288 with 2 Axes>"
            ],
            "image/png": "[encoded data removed]"
          },
          "metadata": {
            "needs_background": "light"
          }
        }
      ]
    },
    {
      "cell_type": "markdown",
      "source": [
        "# Висновок\n",
        "В ході лабораторної роботи було вивчено особливості задачі класифікації."
      ],
      "metadata": {
        "id": "4M6KcPFRNvGi"
      }
    }
  ]
}