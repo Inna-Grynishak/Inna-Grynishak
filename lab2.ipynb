{
  "nbformat": 4,
  "nbformat_minor": 0,
  "metadata": {
    "colab": {
      "name": "Untitled0.ipynb",
      "provenance": [],
      "toc_visible": true,
      "authorship_tag": "ABX9TyN1/BbGUrVBdRmzuFLl9obA",
      "include_colab_link": true
    },
    "kernelspec": {
      "name": "python3",
      "display_name": "Python 3"
    },
    "language_info": {
      "name": "python"
    }
  },
  "cells": [
    {
      "cell_type": "markdown",
      "metadata": {
        "id": "view-in-github",
        "colab_type": "text"
      },
      "source": [
        "<a href=\"https://colab.research.google.com/github/Inna-Grynishak/Inna-Grynishak/blob/main/lab2.ipynb\" target=\"_parent\"><img src=\"https://colab.research.google.com/assets/colab-badge.svg\" alt=\"Open In Colab\"/></a>"
      ]
    },
    {
      "cell_type": "markdown",
      "source": [
        "# Лабораторна робота №2\n",
        "студентки КН-31 **Гринішак Інни**\\\n",
        "**Тема**: TensorFlow\\\n",
        "\\\n",
        "**Завдання:** \\\n",
        "1. За матеріалами ознайомитись із засадами бібліотеки TensorFlow:\n",
        "- засвоєння поняття тензору\n",
        "- знати різні способи створення тензорів\n",
        "- створити набір даних із заданим розподілом (розподіл та розмір за власним рішенням), визначити його властивості (shape, rank, size, axis)\n",
        "- продемонструвати основні математичні операції над тензорами\n",
        "- провести CRUD операції над даними, reshape, інтеграцію з np.array, pd.DataFrame)\n",
        "2. Відповіді оформити .ipynb документами за кожним з попередніх пунктів\n",
        "3. Викласти у зазначений репозіторій GitHub в окремій папці з назвою Lab2 де мають бути .ipynb файл та необхідні файли з даними\n",
        "\n"
      ],
      "metadata": {
        "id": "AuGQL3fGIYuu"
      }
    },
    {
      "cell_type": "markdown",
      "source": [
        "# Завдання 2\n",
        "Знати різні способи створення тензорів"
      ],
      "metadata": {
        "id": "iyZ7xGQVJCUE"
      }
    },
    {
      "cell_type": "code",
      "source": [
        "import  tensorflow  as  tf \n",
        "import numpy as np\n",
        "\n",
        "#vector\n",
        "vector = tf.constant([10, 10])\n",
        "print(vector)\n",
        "\n",
        "#matrix\n",
        "matrix = tf.constant([[10, 7], [7, 10]])\n",
        "print(matrix)\n",
        "\n",
        "#changeble\n",
        "changeable_tensor = tf.Variable([10, 7])\n",
        "print(changeable_tensor)\n",
        "\n",
        "#random\n",
        "randomN = tf.random.Generator.from_seed(22)\n",
        "randomN = randomN.normal(shape=(3, 2))\n",
        "print(randomN)\n",
        "\n",
        "# ones\n",
        "tf.ones(shape=(3, 2))\n"
      ],
      "metadata": {
        "colab": {
          "base_uri": "https://localhost:8080/"
        },
        "id": "d5wcQe2qJN0j",
        "outputId": "b12f43aa-ab43-4fa4-8400-b6fb2eaa91ac"
      },
      "execution_count": 4,
      "outputs": [
        {
          "output_type": "stream",
          "name": "stdout",
          "text": [
            "tf.Tensor([10 10], shape=(2,), dtype=int32)\n",
            "tf.Tensor(\n",
            "[[10  7]\n",
            " [ 7 10]], shape=(2, 2), dtype=int32)\n",
            "<tf.Variable 'Variable:0' shape=(2,) dtype=int32, numpy=array([10,  7], dtype=int32)>\n",
            "tf.Tensor(\n",
            "[[-0.7531523   2.0261486 ]\n",
            " [-0.06997604  0.85445154]\n",
            " [ 0.1175475   0.03493892]], shape=(3, 2), dtype=float32)\n"
          ]
        },
        {
          "output_type": "execute_result",
          "data": {
            "text/plain": [
              "<tf.Tensor: shape=(3, 2), dtype=float32, numpy=\n",
              "array([[1., 1.],\n",
              "       [1., 1.],\n",
              "       [1., 1.]], dtype=float32)>"
            ]
          },
          "metadata": {},
          "execution_count": 4
        }
      ]
    },
    {
      "cell_type": "markdown",
      "source": [
        "# Завдання 3\n",
        "Створити набір даних із заданим розподілом (розподіл та розмір за власним рішенням), визначити його властивості (shape, rank, size, axis)"
      ],
      "metadata": {
        "id": "2SmllwPKKh_x"
      }
    },
    {
      "cell_type": "code",
      "source": [
        "#matrix\n",
        "matrix = tf.constant([[10, 3], [5, 8]])\n",
        "print(matrix, '\\n')\n",
        "\n",
        "print('Shape: ',matrix.shape, '\\n')\n",
        "print('Rank: ',matrix.ndim, '\\n')\n",
        "print('Size: ', tf.size(matrix).numpy(), '\\n')\n",
        "print('Last axis : ',matrix.shape[-1], '\\n')"
      ],
      "metadata": {
        "colab": {
          "base_uri": "https://localhost:8080/"
        },
        "id": "Oe2TWQrhKrnr",
        "outputId": "1a507683-7979-469f-cd84-e15fdc1b7baa"
      },
      "execution_count": 7,
      "outputs": [
        {
          "output_type": "stream",
          "name": "stdout",
          "text": [
            "tf.Tensor(\n",
            "[[10  3]\n",
            " [ 5  8]], shape=(2, 2), dtype=int32) \n",
            "\n",
            "Shape:  (2, 2) \n",
            "\n",
            "Rank:  2 \n",
            "\n",
            "Size:  4 \n",
            "\n",
            "Last axis :  2 \n",
            "\n"
          ]
        }
      ]
    },
    {
      "cell_type": "markdown",
      "source": [
        "# Завдання 4\n",
        "Продемонструвати основні математичні операції над тензорами"
      ],
      "metadata": {
        "id": "2oxX67I7LMl9"
      }
    },
    {
      "cell_type": "code",
      "source": [
        "print(matrix)\n",
        "print('\\n Addition: \\n', matrix + 10)\n",
        "print('\\n Multiplication: \\n', tf.multiply(matrix, 10))\n",
        "print('\\n Subtraction: \\n', matrix - 10)\n",
        "print('\\n Matrix mutliplication: \\n', matrix @ matrix)\n",
        "print('\\n Matrix mutliplication_var2: \\n', tf.matmul(matrix, matrix))\n",
        "\n",
        "print('Min: ',tf.reduce_min(matrix))\n",
        "print('Max: ',tf.reduce_max(matrix))\n",
        "print('Sum: ',tf.reduce_sum(matrix))"
      ],
      "metadata": {
        "colab": {
          "base_uri": "https://localhost:8080/"
        },
        "id": "vOXUVpFBLXKi",
        "outputId": "94fde70b-b47e-4d08-8624-f9871eb583ed"
      },
      "execution_count": 8,
      "outputs": [
        {
          "output_type": "stream",
          "name": "stdout",
          "text": [
            "tf.Tensor(\n",
            "[[10  3]\n",
            " [ 5  8]], shape=(2, 2), dtype=int32)\n",
            "\n",
            " Addition: \n",
            " tf.Tensor(\n",
            "[[20 13]\n",
            " [15 18]], shape=(2, 2), dtype=int32)\n",
            "\n",
            " Multiplication: \n",
            " tf.Tensor(\n",
            "[[100  30]\n",
            " [ 50  80]], shape=(2, 2), dtype=int32)\n",
            "\n",
            " Subtraction: \n",
            " tf.Tensor(\n",
            "[[ 0 -7]\n",
            " [-5 -2]], shape=(2, 2), dtype=int32)\n",
            "\n",
            " Matrix mutliplication: \n",
            " tf.Tensor(\n",
            "[[115  54]\n",
            " [ 90  79]], shape=(2, 2), dtype=int32)\n",
            "\n",
            " Matrix mutliplication_var2: \n",
            " tf.Tensor(\n",
            "[[115  54]\n",
            " [ 90  79]], shape=(2, 2), dtype=int32)\n",
            "Min:  tf.Tensor(3, shape=(), dtype=int32)\n",
            "Max:  tf.Tensor(10, shape=(), dtype=int32)\n",
            "Sum:  tf.Tensor(26, shape=(), dtype=int32)\n"
          ]
        }
      ]
    },
    {
      "cell_type": "markdown",
      "source": [
        "# Завдання 5\n",
        "Провести CRUD операції над даними, reshape, інтеграцію з np.array)"
      ],
      "metadata": {
        "id": "Cgsf0XVHMS6Y"
      }
    },
    {
      "cell_type": "code",
      "source": [
        "matrix = tf.constant([[10, 3], [5, 8], [2, 1], [0, 4], [-4, 1]])\n",
        "# reshape\n",
        "print(tf.reshape(matrix, [2,5]))\n",
        "\n",
        "#інтеграція з np.array\n",
        "print(np.array(matrix))\n",
        "print(type(np.array(matrix)))"
      ],
      "metadata": {
        "colab": {
          "base_uri": "https://localhost:8080/"
        },
        "id": "6PWCPbFdMdZi",
        "outputId": "09105f44-8ae5-45aa-e167-435f1f20db33"
      },
      "execution_count": 15,
      "outputs": [
        {
          "output_type": "stream",
          "name": "stdout",
          "text": [
            "tf.Tensor(\n",
            "[[10  3  5  8  2]\n",
            " [ 1  0  4 -4  1]], shape=(2, 5), dtype=int32)\n",
            "[[10  3]\n",
            " [ 5  8]\n",
            " [ 2  1]\n",
            " [ 0  4]\n",
            " [-4  1]]\n",
            "<class 'numpy.ndarray'>\n"
          ]
        }
      ]
    }
  ]
}